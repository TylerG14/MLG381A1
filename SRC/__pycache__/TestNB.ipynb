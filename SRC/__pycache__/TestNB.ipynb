{
 "cells": [
  {
   "cell_type": "markdown",
   "id": "64b865ab",
   "metadata": {},
   "source": [
    "Import all needed resources"
   ]
  },
  {
   "cell_type": "code",
   "execution_count": 1,
   "id": "42482b23",
   "metadata": {},
   "outputs": [
    {
     "ename": "ModuleNotFoundError",
     "evalue": "No module named 'Evaluations'",
     "output_type": "error",
     "traceback": [
      "\u001b[31m---------------------------------------------------------------------------\u001b[39m",
      "\u001b[31mModuleNotFoundError\u001b[39m                       Traceback (most recent call last)",
      "\u001b[36mCell\u001b[39m\u001b[36m \u001b[39m\u001b[32mIn[1]\u001b[39m\u001b[32m, line 9\u001b[39m\n\u001b[32m      7\u001b[39m \u001b[38;5;28;01mfrom\u001b[39;00m\u001b[38;5;250m \u001b[39m\u001b[34;01msklearn\u001b[39;00m\u001b[34;01m.\u001b[39;00m\u001b[34;01mensemble\u001b[39;00m\u001b[38;5;250m \u001b[39m\u001b[38;5;28;01mimport\u001b[39;00m RandomForestClassifier\n\u001b[32m      8\u001b[39m \u001b[38;5;28;01mfrom\u001b[39;00m\u001b[38;5;250m \u001b[39m\u001b[34;01mxgboost\u001b[39;00m\u001b[38;5;250m \u001b[39m\u001b[38;5;28;01mimport\u001b[39;00m XGBClassifier\n\u001b[32m----> \u001b[39m\u001b[32m9\u001b[39m \u001b[38;5;28;01mfrom\u001b[39;00m\u001b[38;5;250m \u001b[39m\u001b[34;01mEvaluations\u001b[39;00m\u001b[38;5;250m \u001b[39m\u001b[38;5;28;01mimport\u001b[39;00m evaluate_classification_model\n\u001b[32m     10\u001b[39m \u001b[38;5;28;01mfrom\u001b[39;00m\u001b[38;5;250m \u001b[39m\u001b[34;01msklearn\u001b[39;00m\u001b[34;01m.\u001b[39;00m\u001b[34;01mlinear_model\u001b[39;00m\u001b[38;5;250m \u001b[39m\u001b[38;5;28;01mimport\u001b[39;00m LogisticRegression\n\u001b[32m     11\u001b[39m \u001b[38;5;28;01mfrom\u001b[39;00m\u001b[38;5;250m \u001b[39m\u001b[34;01mEvaluations\u001b[39;00m\u001b[38;5;250m \u001b[39m\u001b[38;5;28;01mimport\u001b[39;00m evaluate_classification_model\n",
      "\u001b[31mModuleNotFoundError\u001b[39m: No module named 'Evaluations'"
     ]
    }
   ],
   "source": [
    "import sys\n",
    "import os\n",
    "import pandas as pd\n",
    "import matplotlib.pyplot as plt\n",
    "import seaborn as sns\n",
    "from sklearn.linear_model import LogisticRegression\n",
    "from sklearn.ensemble import RandomForestClassifier\n",
    "from xgboost import XGBClassifier\n",
    "from Evaluations import evaluate_classification_model\n",
    "from sklearn.linear_model import LogisticRegression\n",
    "from Evaluations import evaluate_classification_model\n",
    "\n",
    "from Prep_Data import load_student_data, explore_student_data, prepare_data_for_training, engineer_features\n",
    "from Analysis import univariate_analysis, bivariate_analysis\n"
   ]
  },
  {
   "cell_type": "markdown",
   "id": "085617d3",
   "metadata": {},
   "source": [
    "Loading Data, cleaning data, removing outliers, removing redundant data, feature engineering and splitting test and training data"
   ]
  },
  {
   "cell_type": "code",
   "execution_count": null,
   "id": "f2a47786",
   "metadata": {},
   "outputs": [],
   "source": [
    "\n",
    "filepath = \"../Data/Student_performance_data.csv\"\n",
    "df = load_student_data(filepath)\n",
    "df = engineer_features(df)\n",
    "X_train, X_test, y_train, y_test = prepare_data_for_training(df)\n"
   ]
  },
  {
   "cell_type": "markdown",
   "id": "2e587d87",
   "metadata": {},
   "source": [
    "Data Understanding"
   ]
  },
  {
   "cell_type": "code",
   "execution_count": null,
   "id": "f7afd551",
   "metadata": {},
   "outputs": [],
   "source": [
    "explore_student_data(df)"
   ]
  },
  {
   "cell_type": "markdown",
   "id": "3b8744f3",
   "metadata": {},
   "source": [
    "Exploratory Data Analysis"
   ]
  },
  {
   "cell_type": "code",
   "execution_count": null,
   "id": "c31d4189",
   "metadata": {},
   "outputs": [],
   "source": [
    "univariate_analysis(df)\n",
    "bivariate_analysis(df)"
   ]
  },
  {
   "cell_type": "markdown",
   "id": "2afa7c7c",
   "metadata": {},
   "source": [
    "Evaluation Metrics and model trainng and model usage"
   ]
  },
  {
   "cell_type": "code",
   "execution_count": null,
   "id": "d6b7892f",
   "metadata": {},
   "outputs": [],
   "source": [
    "\n",
    "print(\"\\nLogistic Regression:\")\n",
    "lr = LogisticRegression(class_weight='balanced', random_state=42, max_iter=10000)\n",
    "lr.fit(X_train, y_train)\n",
    "lr_pred = lr.predict(X_test)\n",
    "# Evaluate model\n",
    "evaluate_classification_model(y_test, lr_pred)\n",
    "\n",
    "# Train and test Random Forest\n",
    "print(\"\\nRandom Forest:\")\n",
    "rf = RandomForestClassifier(class_weight='balanced', random_state=42, n_estimators=100)\n",
    "rf.fit(X_train, y_train)\n",
    "rf_pred = rf.predict(X_test)\n",
    "# Evaluate model\n",
    "evaluate_classification_model(y_test, rf_pred)\n",
    "\n",
    "\n",
    "# Train and test XGBoost\n",
    "print(\"\\nXGBoost:\")\n",
    "# Adjust for class imbalance\n",
    "scale_weight = len(y_train[y_train == 4]) / len(y_train[y_train != 4])\n",
    "xgb = XGBClassifier(random_state=42)\n",
    "xgb.fit(X_train, y_train)\n",
    "xgb_pred = xgb.predict(X_test)\n",
    "\n",
    "evaluate_classification_model(y_test, xgb_pred)"
   ]
  },
  {
   "cell_type": "code",
   "execution_count": null,
   "id": "926e7e05",
   "metadata": {},
   "outputs": [],
   "source": [
    "\n",
    "import tensorflow as tf\n",
    "from sklearn.preprocessing import StandardScaler\n",
    "from sklearn.utils.class_weight import compute_class_weight\n",
    "from tensorflow.keras.models import Sequential\n",
    "from tensorflow.keras.layers import Dense\n",
    "from tensorflow.keras.utils import to_categorical\n",
    "import numpy as np\n",
    "import matplotlib.pyplot as plt\n",
    "\n",
    "print(\"\\nNeural Network:\")\n",
    "\n",
    "# Scale features\n",
    "scaler = StandardScaler()\n",
    "X_train_scaled = scaler.fit_transform(X_train)\n",
    "X_test_scaled = scaler.transform(X_test)\n",
    "\n",
    "# One-hot encode target\n",
    "y_train_onehot = to_categorical(y_train, num_classes=5)\n",
    "y_test_onehot = to_categorical(y_test, num_classes=5)\n",
    "\n",
    "# Compute class weights for imbalance\n",
    "class_weights = compute_class_weight('balanced', classes=np.unique(y_train), y=y_train)\n",
    "class_weight_dict = dict(enumerate(class_weights))\n",
    "\n",
    "# Define neural network model\n",
    "model = Sequential([\n",
    "    Dense(64, activation='relu', input_shape=(X_train.shape[1],)),\n",
    "    Dense(32, activation='relu'),\n",
    "    Dense(5, activation='softmax')\n",
    "])\n",
    "model.compile(optimizer='adam', loss='categorical_crossentropy', metrics=['accuracy'])\n",
    "\n",
    "# Train model\n",
    "history = model.fit(X_train_scaled, y_train_onehot, epochs=20, batch_size=32,\n",
    "                   validation_split=0.2, class_weight=class_weight_dict, verbose=1)\n",
    "\n",
    "# Predict on test set\n",
    "y_pred_onehot = model.predict(X_test_scaled)\n",
    "y_pred = np.argmax(y_pred_onehot, axis=1)\n",
    "print(\"Neural Network predictions:\", y_pred[:10])\n",
    "\n",
    "# Evaluate model\n",
    "evaluate_classification_model(y_test, y_pred)\n",
    "\n",
    "# Plot loss curves\n",
    "plt.figure(figsize=(8, 6))\n",
    "plt.plot(history.history['loss'], label='Training Loss')\n",
    "plt.plot(history.history['val_loss'], label='Validation Loss')\n",
    "plt.title('Neural Network Loss Curves')\n",
    "plt.xlabel('Epoch')\n",
    "plt.ylabel('Loss')\n",
    "plt.legend()\n",
    "plt.grid(True)\n",
    "plt.show()"
   ]
  }
 ],
 "metadata": {
  "kernelspec": {
   "display_name": "ml-env-py311",
   "language": "python",
   "name": "python3"
  },
  "language_info": {
   "codemirror_mode": {
    "name": "ipython",
    "version": 3
   },
   "file_extension": ".py",
   "mimetype": "text/x-python",
   "name": "python",
   "nbconvert_exporter": "python",
   "pygments_lexer": "ipython3",
   "version": "3.11.11"
  }
 },
 "nbformat": 4,
 "nbformat_minor": 5
}

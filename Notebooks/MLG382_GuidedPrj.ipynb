{
 "cells": [
  {
   "cell_type": "markdown",
   "id": "64b865ab",
   "metadata": {},
   "source": [
    "Import all needed resources"
   ]
  },
  {
   "cell_type": "code",
   "execution_count": null,
   "id": "42482b23",
   "metadata": {},
   "outputs": [],
   "source": [
    "import sys\n",
    "import os\n",
    "import pandas as pd\n",
    "import matplotlib.pyplot as plt\n",
    "import seaborn as sns\n",
    "import sklearn\n"
   ]
  },
  {
   "cell_type": "markdown",
   "id": "085617d3",
   "metadata": {},
   "source": [
    "Loading Data"
   ]
  },
  {
   "cell_type": "code",
   "execution_count": 2,
   "id": "f2a47786",
   "metadata": {},
   "outputs": [
    {
     "ename": "ImportError",
     "evalue": "cannot import name 'load_and_split_data' from 'Prep_Data' (d:\\MLG382\\assignments\\GuidedProject_MLG382_2025\\SRC\\Prep_Data.py)",
     "output_type": "error",
     "traceback": [
      "\u001b[1;31m---------------------------------------------------------------------------\u001b[0m",
      "\u001b[1;31mImportError\u001b[0m                               Traceback (most recent call last)",
      "Cell \u001b[1;32mIn[2], line 2\u001b[0m\n\u001b[0;32m      1\u001b[0m sys\u001b[38;5;241m.\u001b[39mpath\u001b[38;5;241m.\u001b[39mappend(os\u001b[38;5;241m.\u001b[39mpath\u001b[38;5;241m.\u001b[39mabspath(\u001b[38;5;124m\"\u001b[39m\u001b[38;5;124m../SRC\u001b[39m\u001b[38;5;124m\"\u001b[39m))\n\u001b[1;32m----> 2\u001b[0m \u001b[38;5;28;01mfrom\u001b[39;00m \u001b[38;5;21;01mPrep_Data\u001b[39;00m \u001b[38;5;28;01mimport\u001b[39;00m load_and_split_data\n\u001b[0;32m      3\u001b[0m data_path \u001b[38;5;241m=\u001b[39m \u001b[38;5;124m\"\u001b[39m\u001b[38;5;124m../Data/Student_performance_data.csv\u001b[39m\u001b[38;5;124m\"\u001b[39m\n\u001b[0;32m      4\u001b[0m X_train, X_test, y_train, y_test \u001b[38;5;241m=\u001b[39m load_and_split_data(data_path)\n",
      "\u001b[1;31mImportError\u001b[0m: cannot import name 'load_and_split_data' from 'Prep_Data' (d:\\MLG382\\assignments\\GuidedProject_MLG382_2025\\SRC\\Prep_Data.py)"
     ]
    }
   ],
   "source": [
    "sys.path.append(os.path.abspath(\"../SRC\"))\n",
    "from Prep_Data import load_and_split_data\n",
    "data_path = \"../Data/Student_performance_data.csv\"\n",
    "X_train, X_test, y_train, y_test = load_and_split_data(data_path)"
   ]
  }
 ],
 "metadata": {
  "kernelspec": {
   "display_name": "base",
   "language": "python",
   "name": "python3"
  },
  "language_info": {
   "codemirror_mode": {
    "name": "ipython",
    "version": 3
   },
   "file_extension": ".py",
   "mimetype": "text/x-python",
   "name": "python",
   "nbconvert_exporter": "python",
   "pygments_lexer": "ipython3",
   "version": "3.12.7"
  }
 },
 "nbformat": 4,
 "nbformat_minor": 5
}
